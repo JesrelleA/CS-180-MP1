{
 "cells": [
  {
   "cell_type": "code",
   "execution_count": 1,
   "metadata": {},
   "outputs": [],
   "source": [
    "import numpy as np\n",
    "import pandas as pd\n",
    "from sklearn.tree import DecisionTreeClassifier, export_graphviz\n",
    "from sklearn.model_selection import train_test_split\n",
    "from sklearn.metrics import classification_report, accuracy_score, precision_score, confusion_matrix, recall_score\n",
    "from sklearn.preprocessing import LabelEncoder\n",
    "from sklearn.pipeline import Pipeline\n",
    "from sklearn import tree\n",
    "from sklearn import preprocessing\n",
    "import graphviz"
   ]
  },
  {
   "cell_type": "markdown",
   "metadata": {},
   "source": [
    "# Read original dataset"
   ]
  },
  {
   "cell_type": "code",
   "execution_count": 2,
   "metadata": {},
   "outputs": [],
   "source": [
    "data = pd.read_csv(\"googleplaystore.csv\")"
   ]
  },
  {
   "cell_type": "markdown",
   "metadata": {},
   "source": [
    "# Dropping unnecessary columns and rows"
   ]
  },
  {
   "cell_type": "markdown",
   "metadata": {},
   "source": [
    "According to James Le (2018), \"If you have many independent features that each correlate well with the class, learning is easy. On the other hand, if the class is a very complex function of the features, you may not be able to learn it.\" \n",
    "\n",
    "The dropped columns are too specific to be used for inference.\n",
    "\n",
    "Source: https://towardsdatascience.com/12-useful-things-to-know-about-machine-learning-487d3104e28?fbclid=IwAR0W1UAr0o07vpLINhWwoEJJqybNmOPEExUruYLiUB9v0q3o5rhkPz2Wkzw"
   ]
  },
  {
   "cell_type": "code",
   "execution_count": 3,
   "metadata": {},
   "outputs": [],
   "source": [
    "#Drop columns: App, Last Updated, Current Ver, Android Ver, Unnamed: 13\n",
    "cleaned_data = data.drop(['App', 'Last Updated', 'Current Ver', 'Android Ver', 'Unnamed: 13'], axis=1)\n",
    "\n",
    "#Drop rows with Rating = NA\n",
    "cleaned_data = cleaned_data.dropna()\n",
    "\n",
    "#Drop rows with 'Varies with device'\n",
    "cleaned_data = cleaned_data[cleaned_data.Size != 'Varies with device']"
   ]
  },
  {
   "cell_type": "markdown",
   "metadata": {},
   "source": [
    "# Multiply numbers with 1000 if it ends with K or with 100000 if it ends with M"
   ]
  },
  {
   "cell_type": "code",
   "execution_count": 4,
   "metadata": {},
   "outputs": [],
   "source": [
    "def value_to_float(x):\n",
    "    if type(x) == float or type(x) == int:\n",
    "        return x\n",
    "    if 'K' in x:\n",
    "        if len(x) > 1:\n",
    "            return float(x.replace('K', '')) * 1000\n",
    "        return 1000.0\n",
    "    if 'M' in x:\n",
    "        if len(x) > 1:\n",
    "            return float(x.replace('M', '')) * 1000000\n",
    "        return 1000000.0\n",
    "    return 0.0"
   ]
  },
  {
   "cell_type": "code",
   "execution_count": 5,
   "metadata": {},
   "outputs": [],
   "source": [
    "cleaned_data.Size = cleaned_data.Size.apply(value_to_float).astype(int)"
   ]
  },
  {
   "cell_type": "code",
   "execution_count": 6,
   "metadata": {},
   "outputs": [],
   "source": [
    "cleaned_data.Installs = cleaned_data.Installs.map(lambda x: x.rstrip('+'))\n",
    "cleaned_data.Installs = cleaned_data.Installs.str.replace(',', '')\n",
    "\n",
    "cleaned_data.Price = cleaned_data.Price.str.replace('$', '').astype(float)"
   ]
  },
  {
   "cell_type": "code",
   "execution_count": 7,
   "metadata": {},
   "outputs": [],
   "source": [
    "cleaned_data.drop_duplicates(subset=None, keep='first', inplace=True)"
   ]
  },
  {
   "cell_type": "code",
   "execution_count": 8,
   "metadata": {},
   "outputs": [],
   "source": [
    "cleaned_data.shape\n",
    "def ifef(col):\n",
    "    if col > 4.5:\n",
    "        return  'High'\n",
    "    if col >= 4 and col <= 4.5:\n",
    "        return 'Average'\n",
    "    if col < 4:\n",
    "        return 'Poor'\n",
    "cleaned_data['Success'] = cleaned_data['Rating'].apply(ifef)"
   ]
  },
  {
   "cell_type": "code",
   "execution_count": 9,
   "metadata": {},
   "outputs": [],
   "source": [
    "cleaned_data = cleaned_data.drop('Rating', axis=1)"
   ]
  },
  {
   "cell_type": "markdown",
   "metadata": {},
   "source": [
    "# Writing cleaned data to csv file"
   ]
  },
  {
   "cell_type": "code",
   "execution_count": 10,
   "metadata": {},
   "outputs": [],
   "source": [
    "cleaned_data.to_csv('googleplaystore_cleaned.csv')"
   ]
  },
  {
   "cell_type": "markdown",
   "metadata": {},
   "source": [
    "# Read cleaned dataset"
   ]
  },
  {
   "cell_type": "code",
   "execution_count": 11,
   "metadata": {},
   "outputs": [],
   "source": [
    "cleaned_data = pd.read_csv(\"googleplaystore_cleaned.csv\")\n",
    "labeled_data = cleaned_data"
   ]
  },
  {
   "cell_type": "markdown",
   "metadata": {},
   "source": [
    "# Convert categorical data to indexes"
   ]
  },
  {
   "cell_type": "code",
   "execution_count": 12,
   "metadata": {},
   "outputs": [],
   "source": [
    "# instantiate labelencoder object\n",
    "le = LabelEncoder()\n",
    "\n",
    "# apply labelencoder to categorical data\n",
    "labeled_data['Category'] = le.fit_transform(labeled_data['Category'])\n",
    "labeled_data['Type'] = le.fit_transform(labeled_data['Type'])\n",
    "labeled_data['Content Rating'] = le.fit_transform(labeled_data['Content Rating'])\n",
    "labeled_data['Genres'] = le.fit_transform(labeled_data['Genres'])\n",
    "labeled_data['Success'] = le.fit_transform(labeled_data['Success'])"
   ]
  },
  {
   "cell_type": "markdown",
   "metadata": {},
   "source": [
    "# Splitting dataset"
   ]
  },
  {
   "cell_type": "code",
   "execution_count": 13,
   "metadata": {
    "scrolled": true
   },
   "outputs": [],
   "source": [
    "X = labeled_data.drop('Success', axis=1)\n",
    "Y = labeled_data['Success']"
   ]
  },
  {
   "cell_type": "code",
   "execution_count": 14,
   "metadata": {},
   "outputs": [],
   "source": [
    "t_size = 0.4\n",
    "r_state = 10"
   ]
  },
  {
   "cell_type": "code",
   "execution_count": 15,
   "metadata": {},
   "outputs": [],
   "source": [
    "X_train, X_test, y_train, y_test = train_test_split( X, Y, test_size = t_size, random_state = r_state)"
   ]
  },
  {
   "cell_type": "markdown",
   "metadata": {
    "scrolled": true
   },
   "source": [
    "X_train.shape = (5193, 8)\n",
    "\n",
    "X_test.shape = (2226, 8)\n",
    "\n",
    "y_train.shape = (5193,)\n",
    "\n",
    "y_test.shape = (2226,)"
   ]
  },
  {
   "cell_type": "markdown",
   "metadata": {},
   "source": [
    "# Building the decision tree"
   ]
  },
  {
   "cell_type": "code",
   "execution_count": 16,
   "metadata": {},
   "outputs": [],
   "source": [
    "clf_gini = DecisionTreeClassifier(criterion = \"gini\", random_state = r_state, max_depth=3, min_samples_leaf=5)\n",
    "# clf_gini = tree.DecisionTreeClassifier(random_state=666, min_impurity_decrease=0.009)"
   ]
  },
  {
   "cell_type": "markdown",
   "metadata": {},
   "source": [
    "Other test values for random state:\n",
    "\n",
    "    random_state   accuracy_score\n",
    "    99             0.5658\n",
    "    15             0.5677\n",
    "    100            0.5710\n",
    "    "
   ]
  },
  {
   "cell_type": "code",
   "execution_count": 17,
   "metadata": {},
   "outputs": [
    {
     "data": {
      "text/plain": [
       "DecisionTreeClassifier(class_weight=None, criterion='gini', max_depth=3,\n",
       "            max_features=None, max_leaf_nodes=None,\n",
       "            min_impurity_decrease=0.0, min_impurity_split=None,\n",
       "            min_samples_leaf=5, min_samples_split=2,\n",
       "            min_weight_fraction_leaf=0.0, presort=False, random_state=10,\n",
       "            splitter='best')"
      ]
     },
     "execution_count": 17,
     "metadata": {},
     "output_type": "execute_result"
    }
   ],
   "source": [
    "clf_gini.fit(X_train, y_train)"
   ]
  },
  {
   "cell_type": "code",
   "execution_count": 18,
   "metadata": {},
   "outputs": [],
   "source": [
    "y_pred = clf_gini.predict(X_test)"
   ]
  },
  {
   "cell_type": "markdown",
   "metadata": {},
   "source": [
    "# Values of Metrics"
   ]
  },
  {
   "cell_type": "code",
   "execution_count": null,
   "metadata": {},
   "outputs": [
    {
     "name": "stdout",
     "output_type": "stream",
     "text": [
      "\n",
      "Accuracy Score: 0.5815\n",
      "\n",
      "Precision Scores for Average, Poor, High:\n",
      ">> 0.5867\n",
      ">> 0.6272\n",
      ">> 0.4354\n",
      "\n",
      "Recall Scores for Average, Poor, High:\n",
      ">> 0.9390\n",
      ">> 0.1715\n",
      ">> 0.0924\n"
     ]
    }
   ],
   "source": [
    "print('\\nAccuracy Score: {0:.4f}'.format(accuracy_score(y_test, y_pred)))\n",
    "print('\\nPrecision Scores for Average, Poor, High:')\n",
    "for i in precision_score(y_test, y_pred, average=None):\n",
    "    print('>> {0:.4f}'.format(i))\n",
    "print('\\nRecall Scores for Average, Poor, High:')\n",
    "for i in recall_score(y_test, y_pred,average=None):\n",
    "    print('>> {0:.4f}'.format(i))\n",
    "# print(recall_score(y_test, y_pred,average=None))"
   ]
  },
  {
   "cell_type": "code",
   "execution_count": null,
   "metadata": {},
   "outputs": [
    {
     "name": "stdout",
     "output_type": "stream",
     "text": [
      "\n",
      "Confusion Matrix:\n",
      "[[1556   36   65]\n",
      " [ 494  106   18]\n",
      " [ 602   27   64]]\n"
     ]
    }
   ],
   "source": [
    "print('\\nConfusion Matrix:')\n",
    "print(confusion_matrix(y_test, y_pred))"
   ]
  },
  {
   "cell_type": "markdown",
   "metadata": {},
   "source": [
    "# Output decision tree image"
   ]
  },
  {
   "cell_type": "code",
   "execution_count": null,
   "metadata": {},
   "outputs": [],
   "source": [
    "dot_data = tree.export_graphviz(clf_gini, out_file=None, feature_names=list(X), class_names=[\"Average\", \"Poor\", \"High\"], filled=True, rounded=True, special_characters=True)"
   ]
  },
  {
   "cell_type": "code",
   "execution_count": null,
   "metadata": {},
   "outputs": [
    {
     "data": {
      "text/plain": [
       "'dec_treev2.png'"
      ]
     },
     "execution_count": 22,
     "metadata": {},
     "output_type": "execute_result"
    }
   ],
   "source": [
    "graph = graphviz.Source(dot_data)\n",
    "graph.format = 'png'\n",
    "graph.render('dec_treev2', view=True)"
   ]
  },
  {
   "cell_type": "markdown",
   "metadata": {},
   "source": [
    "# Get user input"
   ]
  },
  {
   "cell_type": "code",
   "execution_count": null,
   "metadata": {},
   "outputs": [],
   "source": [
    "def reviews(level):\n",
    "    if(level == 1):\n",
    "        if(review_val <= 1463.5):\n",
    "            return installs(2)\n",
    "        else:\n",
    "            return \"Average\"\n",
    "\n",
    "    if(level == 2):\n",
    "        if(review_val <= 25873.5):\n",
    "            return installs(3)\n",
    "\n",
    "def installs(level):\n",
    "    if(level == 2):\n",
    "        if(install_val <= 3000):\n",
    "            return installs(3)\n",
    "        else:\n",
    "            return genre()\n",
    "\n",
    "    if(level == 3):\n",
    "        if(install_val <= 300):\n",
    "            return \"Poor\"\n",
    "        else:\n",
    "            return \"Average\"\n",
    "\n",
    "\n",
    "def genre():\n",
    "    genres_dictionary = {\n",
    "      'Art & Design' : 'Average',\n",
    "      'Auto & Vehicles' : 'Average',\n",
    "      'Beauty' : 'Average',\n",
    "      'Books & Reference' : 'Average',\n",
    "      'Business' : 'Average',\n",
    "      'Comics' : \"Average\",\n",
    "      'Communication' : \"Average\",\n",
    "      'Dating' : \"Average\",\n",
    "      'Education' : \"Average\",\n",
    "      'Entertainment' : \"Average\",\n",
    "      'Events' : \"Average\",\n",
    "      'Finance' : \"Average\",\n",
    "      'Food & Drink' : \"Average\",\n",
    "      'Health & Fitness' : \"Average\",\n",
    "      'House & Home' : \"Average\",\n",
    "      'Libraries & Demo' : \"Average\",\n",
    "      'Lifestyle' : \"Average\",\n",
    "      'Adventure' : \"Average\",\n",
    "      'Arcade' : \"Average\",\n",
    "      'Casual' : \"Average\",\n",
    "      'Card' : \"Average\",\n",
    "      'Strategy' : \"High\",\n",
    "      'Action' : \"Average\",\n",
    "      'Puzzle' : \"Average\",\n",
    "      'Sports' : \"Average\",\n",
    "      'Word' : \"High\",\n",
    "      'Racing' : \"Average\",\n",
    "      'Simulation' : \"Average\",\n",
    "      'Board' : \"Average\",\n",
    "      'Trivia' : \"High\",\n",
    "      'Role Playing' : \"Average\",\n",
    "      'Educational' : \"Average\",\n",
    "      'Music' : \"Average\",\n",
    "      'Music & Audio' : \"Average\",\n",
    "      'Video Players & Editors' : \"High\",\n",
    "      'Medical' : \"Average\",\n",
    "      'Social' : \"Average\",\n",
    "      'Shopping' : \"Average\",\n",
    "      'Photography' : \"Average\",\n",
    "      'Travel & Local' : \"High\",\n",
    "      'Tools' : \"High\",\n",
    "      'Personalization' : \"Average\",\n",
    "      'Productivity' : \"Average\",\n",
    "      'Parenting' : \"Average\",\n",
    "      'Weather' : \"High\",\n",
    "      'News & Magazines' : \"Average\",\n",
    "      'Maps & Navigation' : \"Average\",\n",
    "      'Casino' : \"Average\"\n",
    "    }\n",
    "\n",
    "    return genres_dictionary.get(genre_name)"
   ]
  },
  {
   "cell_type": "code",
   "execution_count": null,
   "metadata": {},
   "outputs": [
    {
     "name": "stdout",
     "output_type": "stream",
     "text": [
      "Welcome to Google App Success Classifier!\n"
     ]
    }
   ],
   "source": [
    "print(\"Welcome to Google App Success Classifier!\")\n",
    "review_val = float(input(\"Enter the number of reviews of your app: \"))\n",
    "install_val = float(input(\"Enter the number of installs of your app: \"))\n",
    "genre_name = input(\"Enter the genre of your app: \")\n",
    "print(reviews(1))"
   ]
  },
  {
   "cell_type": "code",
   "execution_count": null,
   "metadata": {},
   "outputs": [],
   "source": []
  }
 ],
 "metadata": {
  "kernelspec": {
   "display_name": "Python 3",
   "language": "python",
   "name": "python3"
  },
  "language_info": {
   "codemirror_mode": {
    "name": "ipython",
    "version": 3
   },
   "file_extension": ".py",
   "mimetype": "text/x-python",
   "name": "python",
   "nbconvert_exporter": "python",
   "pygments_lexer": "ipython3",
   "version": "3.7.0"
  }
 },
 "nbformat": 4,
 "nbformat_minor": 2
}
